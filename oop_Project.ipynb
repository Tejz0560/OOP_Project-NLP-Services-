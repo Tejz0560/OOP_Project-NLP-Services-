{
 "cells": [
  {
   "cell_type": "code",
   "execution_count": 1,
   "metadata": {},
   "outputs": [
    {
     "name": "stdout",
     "output_type": "stream",
     "text": [
      "Collecting nlpcloud\n",
      "  Downloading nlpcloud-1.0.34-py3-none-any.whl (4.4 kB)\n",
      "Requirement already satisfied: requests in c:\\users\\bidwai_t\\appdata\\local\\programs\\python\\python310\\lib\\site-packages (from nlpcloud) (2.27.1)\n",
      "Requirement already satisfied: idna<4,>=2.5 in c:\\users\\bidwai_t\\appdata\\local\\programs\\python\\python310\\lib\\site-packages (from requests->nlpcloud) (3.3)\n",
      "Requirement already satisfied: charset-normalizer~=2.0.0 in c:\\users\\bidwai_t\\appdata\\local\\programs\\python\\python310\\lib\\site-packages (from requests->nlpcloud) (2.0.12)\n",
      "Requirement already satisfied: urllib3<1.27,>=1.21.1 in c:\\users\\bidwai_t\\appdata\\local\\programs\\python\\python310\\lib\\site-packages (from requests->nlpcloud) (1.26.9)\n",
      "Requirement already satisfied: certifi>=2017.4.17 in c:\\users\\bidwai_t\\appdata\\local\\programs\\python\\python310\\lib\\site-packages (from requests->nlpcloud) (2022.5.18.1)\n",
      "Installing collected packages: nlpcloud\n",
      "Successfully installed nlpcloud-1.0.34\n",
      "Note: you may need to restart the kernel to use updated packages.\n"
     ]
    }
   ],
   "source": [
    "pip install nlpcloud"
   ]
  },
  {
   "cell_type": "code",
   "execution_count": null,
   "metadata": {},
   "outputs": [],
   "source": [
    "class NLPApp:\n",
    "\n",
    "    def __init__(self) -> None:\n",
    "        __database = {}\n",
    "\n",
    "    def __first_menu(self):\n",
    "        pas"
   ]
  }
 ],
 "metadata": {
  "kernelspec": {
   "display_name": "Python 3.10.4 64-bit",
   "language": "python",
   "name": "python3"
  },
  "language_info": {
   "codemirror_mode": {
    "name": "ipython",
    "version": 3
   },
   "file_extension": ".py",
   "mimetype": "text/x-python",
   "name": "python",
   "nbconvert_exporter": "python",
   "pygments_lexer": "ipython3",
   "version": "3.10.4"
  },
  "orig_nbformat": 4,
  "vscode": {
   "interpreter": {
    "hash": "6260aeaa0c939462c70aae866485cf94566c9b6909f8c488d8931502cb6a4aaa"
   }
  }
 },
 "nbformat": 4,
 "nbformat_minor": 2
}
