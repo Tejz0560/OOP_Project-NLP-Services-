{
 "cells": [
  {
   "cell_type": "code",
   "execution_count": 1,
   "metadata": {},
   "outputs": [
    {
     "name": "stdout",
     "output_type": "stream",
     "text": [
      "Collecting nlpcloud\n",
      "  Downloading nlpcloud-1.0.34-py3-none-any.whl (4.4 kB)\n",
      "Requirement already satisfied: requests in c:\\users\\bidwai_t\\appdata\\local\\programs\\python\\python310\\lib\\site-packages (from nlpcloud) (2.27.1)\n",
      "Requirement already satisfied: idna<4,>=2.5 in c:\\users\\bidwai_t\\appdata\\local\\programs\\python\\python310\\lib\\site-packages (from requests->nlpcloud) (3.3)\n",
      "Requirement already satisfied: charset-normalizer~=2.0.0 in c:\\users\\bidwai_t\\appdata\\local\\programs\\python\\python310\\lib\\site-packages (from requests->nlpcloud) (2.0.12)\n",
      "Requirement already satisfied: urllib3<1.27,>=1.21.1 in c:\\users\\bidwai_t\\appdata\\local\\programs\\python\\python310\\lib\\site-packages (from requests->nlpcloud) (1.26.9)\n",
      "Requirement already satisfied: certifi>=2017.4.17 in c:\\users\\bidwai_t\\appdata\\local\\programs\\python\\python310\\lib\\site-packages (from requests->nlpcloud) (2022.5.18.1)\n",
      "Installing collected packages: nlpcloud\n",
      "Successfully installed nlpcloud-1.0.34\n",
      "Note: you may need to restart the kernel to use updated packages.\n"
     ]
    }
   ],
   "source": [
    "pip install nlpcloud"
   ]
  },
  {
   "cell_type": "code",
   "execution_count": 5,
   "metadata": {},
   "outputs": [],
   "source": [
    "import nlpcloud"
   ]
  },
  {
   "cell_type": "code",
   "execution_count": 1,
   "metadata": {},
   "outputs": [],
   "source": [
    "class NLPApp:\n",
    "    \n",
    "    def __init__(self) -> None:\n",
    "        self.__database = {}\n",
    "        self.__first_menu()\n",
    "\n",
    "    def __first_menu(self):\n",
    "        first_input = input(\"\"\"\n",
    "        Hi! How would you like to proceed?\n",
    "        1. Not a Member ? Register.\n",
    "        2. Already member? Login\n",
    "        3. Exit\n",
    "        \"\"\")\n",
    "\n",
    "        if first_input == '1':\n",
    "            self.__register()\n",
    "        elif first_input == '2':\n",
    "            self.__login()\n",
    "        else:\n",
    "            exit()\n",
    "\n",
    "\n",
    "    def __register(self):\n",
    "        name = input('Enter Name')\n",
    "        email = input('Enter Email')\n",
    "        password = input('Enter Password')\n",
    "\n",
    "        if email in self.__database:\n",
    "            print('Email already exits,Please Login')\n",
    "            self.__login()\n",
    "        else:\n",
    "            self.__database[email] = [name,password]\n",
    "            print('Registration Successfull. Now Login')\n",
    "            print(self.__database)\n",
    "            self.__first_menu()\n",
    "\n",
    "    def __login(self):\n",
    "        email = input('Enter email')\n",
    "        password = input('Enter Password')\n",
    "\n",
    "        if email in self.__database:\n",
    "            if self.__database[email][1] == password:\n",
    "                print('Login Successful')\n",
    "                self.__second_menu()\n",
    "            else:\n",
    "                print(\"Wrong password\")\n",
    "                self.__login()\n",
    "        else:\n",
    "            print('This email is not Registered')\n",
    "            self.__first_menu()\n",
    "    \n",
    "    def __second_menu(self):\n",
    "        second_input = input(\"\"\"\n",
    "        Hi! How would you like to proceed?\n",
    "        1. NER.\n",
    "        2. Language detection\n",
    "        3. Sentiment Analysis\n",
    "        4. Logout\n",
    "        \"\"\")\n",
    "\n",
    "        if second_input == '1':\n",
    "            self.__ner()\n",
    "        elif second_input == '2':\n",
    "            self.__language_detection()\n",
    "        elif second_input == '3':\n",
    "            self.__sentiment_analysis()\n",
    "        elif second_input == '4':\n",
    "            exit()\n",
    "\n",
    "    def __ner(self):\n",
    "        para = input('Enter the Paragraph')\n",
    "        search_term = input('What would you like to search')\n",
    "\n",
    "        client = nlpcloud.Client(\"finetuned-gpt-neox-20b\", \"a8313047a60745020e3237aa3501d0b6ca046cbe\", gpu=True, lang=\"en\")\n",
    "        response = client.entities(para, searched_entity=search_term)\n",
    "        print(response)\n",
    "        self.__second_menu()\n",
    "    \n",
    "    def __language_detection(self):\n",
    "        text = input(\"Enter Text\")\n",
    "\n",
    "        client = nlpcloud.Client(\"python-langdetect\", \"a8313047a60745020e3237aa3501d0b6ca046cbe\")\n",
    "        response = client.langdetection(text)\n",
    "        print(response)\n",
    "        self.__second_menu()\n",
    "\n",
    "    def __sentiment_analysis(self):\n",
    "        para = input(\"Enter the paragraph\")\n",
    "\n",
    "        client = nlpcloud.Client(\"distilbert-base-uncased-emotion\", \"a8313047a60745020e3237aa3501d0b6ca046cbe\", gpu=False, lang=\"en\")\n",
    "        response = client.sentiment(para)\n",
    "        \n",
    "        L = []\n",
    "        for i in response['scored_labels']:\n",
    "            L.append(i['score'])\n",
    "\n",
    "        index = sorted(list(enumerate(L)),key=lambda x : x[1],reverse=True)[0][0]\n",
    "\n",
    "        print(response['scored_labels'][index]['label'])\n",
    "        self.__second_menu()\n",
    "\n"
   ]
  },
  {
   "cell_type": "code",
   "execution_count": null,
   "metadata": {},
   "outputs": [],
   "source": [
    "obj = NLPApp()\n",
    "print(\"Successfully Logout\")"
   ]
  }
 ],
 "metadata": {
  "kernelspec": {
   "display_name": "Python 3.10.4 64-bit",
   "language": "python",
   "name": "python3"
  },
  "language_info": {
   "codemirror_mode": {
    "name": "ipython",
    "version": 3
   },
   "file_extension": ".py",
   "mimetype": "text/x-python",
   "name": "python",
   "nbconvert_exporter": "python",
   "pygments_lexer": "ipython3",
   "version": "3.10.4"
  },
  "orig_nbformat": 4,
  "vscode": {
   "interpreter": {
    "hash": "6260aeaa0c939462c70aae866485cf94566c9b6909f8c488d8931502cb6a4aaa"
   }
  }
 },
 "nbformat": 4,
 "nbformat_minor": 2
}
